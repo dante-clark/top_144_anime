{
 "cells": [
  {
   "cell_type": "markdown",
   "metadata": {},
   "source": [
    "### Objective\n",
    "\n",
    "Scrape the top 144 anime from myanimelist.net using Beautiful Soup and Selenium"
   ]
  },
  {
   "cell_type": "code",
   "execution_count": 2,
   "metadata": {},
   "outputs": [],
   "source": [
    "from bs4 import BeautifulSoup\n",
    "import pandas as pd"
   ]
  },
  {
   "cell_type": "markdown",
   "metadata": {},
   "source": [
    "### options"
   ]
  },
  {
   "cell_type": "code",
   "execution_count": 3,
   "metadata": {},
   "outputs": [],
   "source": [
    "# predefined options that make the output of the dataframe more visually appealing.\n",
    "\n",
    "pd.set_option('display.max_rows', None)\n",
    "pd.set_option('display.max_columns', None)\n",
    "pd.set_option('display.width', 1000)\n",
    "pd.set_option('display.colheader_justify', 'center')\n",
    "pd.set_option('display.precision', 3)"
   ]
  },
  {
   "cell_type": "markdown",
   "metadata": {},
   "source": [
    "### variables"
   ]
  },
  {
   "cell_type": "code",
   "execution_count": 4,
   "metadata": {},
   "outputs": [],
   "source": [
    "# These variables are going to be used to populate the dataframe\n",
    "\n",
    "titles = []\n",
    "scores = []\n",
    "ranks = []\n",
    "popularity = []\n",
    "members = []"
   ]
  },
  {
   "cell_type": "markdown",
   "metadata": {},
   "source": [
    "### data for variables"
   ]
  },
  {
   "cell_type": "code",
   "execution_count": 5,
   "metadata": {},
   "outputs": [],
   "source": [
    "# Given that we have 144 html pages, we can create a for loop \n",
    "# that will iterate through each page, collecting the relevant data necessary for each variable defined.\n",
    "\n",
    "num_of_pages = 145\n",
    "\n",
    "for i in range(0, num_of_pages):\n",
    "    with open(f'./pages/{i}.html', 'r', encoding='utf-8') as file:\n",
    "        soup = BeautifulSoup(file, 'html.parser')\n",
    "        scores.append(soup.find(class_='score-label').text)\n",
    "        titles.append(soup.find(class_='title-name').find(name=\"strong\").text)\n",
    "        ranks.append(soup.find(class_='ranked').find(name=\"strong\").text)\n",
    "        popularity.append(soup.find(class_='popularity').find(name='strong').text)\n",
    "        members.append(soup.find(class_='members').find(name='strong').text)"
   ]
  },
  {
   "cell_type": "markdown",
   "metadata": {},
   "source": [
    "### dataframe "
   ]
  },
  {
   "cell_type": "code",
   "execution_count": null,
   "metadata": {},
   "outputs": [],
   "source": [
    "# CSV definition\n",
    "data = {\n",
    "        \"title\": titles, \n",
    "        \"popularity\": popularity, \n",
    "        \"score\": scores, \n",
    "        \"members\": members, \n",
    "        \"rank\": ranks\n",
    "        }\n",
    "\n",
    "df = pd.DataFrame(data=data)\n",
    "\n",
    "display(df)"
   ]
  },
  {
   "cell_type": "markdown",
   "metadata": {},
   "source": [
    "### to_csv"
   ]
  },
  {
   "cell_type": "code",
   "execution_count": 13,
   "metadata": {},
   "outputs": [],
   "source": [
    "df.to_csv(r\"C:\\Users\\Dante Clark\\Desktop\\anime_scraper\\df.csv\", encoding='utf-8', index=False)"
   ]
  }
 ],
 "metadata": {
  "kernelspec": {
   "display_name": "Python 3.10.5 64-bit",
   "language": "python",
   "name": "python3"
  },
  "language_info": {
   "codemirror_mode": {
    "name": "ipython",
    "version": 3
   },
   "file_extension": ".py",
   "mimetype": "text/x-python",
   "name": "python",
   "nbconvert_exporter": "python",
   "pygments_lexer": "ipython3",
   "version": "3.10.5"
  },
  "orig_nbformat": 4,
  "vscode": {
   "interpreter": {
    "hash": "a8f4e2e1c037969bfee3c27a5ebecc6d9593fa35cf12bd216cbfff08086fd545"
   }
  }
 },
 "nbformat": 4,
 "nbformat_minor": 2
}
